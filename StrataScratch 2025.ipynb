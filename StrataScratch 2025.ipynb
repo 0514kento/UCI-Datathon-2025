{
 "cells": [
  {
   "cell_type": "markdown",
   "metadata": {},
   "source": [
    "## Uber Prediction for Analyzing New Drivers\n",
    "\n",
    "### By Kento Morita, Vincent Perez, Aliel Liang, Phuong Duong"
   ]
  },
  {
   "cell_type": "code",
   "execution_count": 1,
   "metadata": {},
   "outputs": [],
   "source": [
    "import numpy as np\n",
    "import pandas as pd\n",
    "import matplotlib.pyplot as plt\n",
    "import seaborn as sns "
   ]
  },
  {
   "cell_type": "markdown",
   "metadata": {},
   "source": [
    "### Data Wrangling\n",
    "#### Since we created new variables in Excel(name: driver_signup_processed.csv) beforehand, please let us write down all of columns which created in Excel process\n",
    "- days_to_bgc: The gap of day difference between signup_date and bgc_date\n",
    "- days_to_vehicle_add: The gap of day difference between signup_date and vehicle_added_date\n",
    "- days_to_first_trip: The gap of day difference between signup_date and first_completed_date\n",
    "- started_driving: Convert binary variable if first_completed_date has 1, otherwise 0."
   ]
  },
  {
   "cell_type": "code",
   "execution_count": 9,
   "metadata": {},
   "outputs": [],
   "source": [
    "data = pd.read_csv('./dataset/driver_signup_processed.csv')"
   ]
  },
  {
   "cell_type": "code",
   "execution_count": 10,
   "metadata": {},
   "outputs": [
    {
     "name": "stdout",
     "output_type": "stream",
     "text": [
      "<class 'pandas.core.frame.DataFrame'>\n",
      "RangeIndex: 54681 entries, 0 to 54680\n",
      "Data columns (total 15 columns):\n",
      " #   Column                Non-Null Count  Dtype  \n",
      "---  ------                --------------  -----  \n",
      " 0   id                    54681 non-null  int64  \n",
      " 1   city_name             54681 non-null  object \n",
      " 2   signup_os             47824 non-null  object \n",
      " 3   signup_channel        54681 non-null  object \n",
      " 4   signup_date           54681 non-null  object \n",
      " 5   bgc_date              32896 non-null  object \n",
      " 6   vehicle_added_date    13134 non-null  object \n",
      " 7   vehicle_make          13223 non-null  object \n",
      " 8   vehicle_model         13223 non-null  object \n",
      " 9   vehicle_year          13223 non-null  float64\n",
      " 10  first_completed_date  6137 non-null   object \n",
      " 11  days_to_bgc           32896 non-null  float64\n",
      " 12  days_to_vehicle_add   13134 non-null  float64\n",
      " 13  days_to_first_trip    6137 non-null   float64\n",
      " 14  started_driving       54681 non-null  int64  \n",
      "dtypes: float64(4), int64(2), object(9)\n",
      "memory usage: 6.3+ MB\n"
     ]
    },
    {
     "data": {
      "text/plain": [
       "(54681, 15)"
      ]
     },
     "execution_count": 10,
     "metadata": {},
     "output_type": "execute_result"
    }
   ],
   "source": [
    "#explore dataset features\n",
    "data.info()\n",
    "data.shape"
   ]
  },
  {
   "cell_type": "code",
   "execution_count": 11,
   "metadata": {},
   "outputs": [
    {
     "data": {
      "text/plain": [
       "id                          0\n",
       "city_name                   0\n",
       "signup_os                6857\n",
       "signup_channel              0\n",
       "signup_date                 0\n",
       "bgc_date                21785\n",
       "vehicle_added_date      41547\n",
       "vehicle_make            41458\n",
       "vehicle_model           41458\n",
       "vehicle_year            41458\n",
       "first_completed_date    48544\n",
       "days_to_bgc             21785\n",
       "days_to_vehicle_add     41547\n",
       "days_to_first_trip      48544\n",
       "started_driving             0\n",
       "dtype: int64"
      ]
     },
     "execution_count": 11,
     "metadata": {},
     "output_type": "execute_result"
    }
   ],
   "source": [
    "#null value counts\n",
    "data.isna().sum()"
   ]
  },
  {
   "cell_type": "code",
   "execution_count": 12,
   "metadata": {},
   "outputs": [],
   "source": [
    "# Impute missing values\n",
    "## Since we have to handle the number of days and missing value differently, we put -1 for missing value in categorical variable.\n",
    "from sklearn.impute import SimpleImputer\n",
    "num_cols = ['days_to_bgc', 'days_to_vehicle_add']\n",
    "cat_cols = ['signup_os', 'signup_channel', 'city_name']\n",
    "\n",
    "data[num_cols] = SimpleImputer(strategy='constant', fill_value=-1).fit_transform(data[num_cols])\n",
    "data[cat_cols] = SimpleImputer(strategy='constant', fill_value=0).fit_transform(data[cat_cols])"
   ]
  },
  {
   "cell_type": "code",
   "execution_count": 15,
   "metadata": {},
   "outputs": [
    {
     "data": {
      "text/html": [
       "<div>\n",
       "<style scoped>\n",
       "    .dataframe tbody tr th:only-of-type {\n",
       "        vertical-align: middle;\n",
       "    }\n",
       "\n",
       "    .dataframe tbody tr th {\n",
       "        vertical-align: top;\n",
       "    }\n",
       "\n",
       "    .dataframe thead th {\n",
       "        text-align: right;\n",
       "    }\n",
       "</style>\n",
       "<table border=\"1\" class=\"dataframe\">\n",
       "  <thead>\n",
       "    <tr style=\"text-align: right;\">\n",
       "      <th></th>\n",
       "      <th></th>\n",
       "      <th>number_drivers</th>\n",
       "    </tr>\n",
       "    <tr>\n",
       "      <th>signup_os</th>\n",
       "      <th>signup_channel</th>\n",
       "      <th></th>\n",
       "    </tr>\n",
       "  </thead>\n",
       "  <tbody>\n",
       "    <tr>\n",
       "      <th rowspan=\"3\" valign=\"top\">android web</th>\n",
       "      <th>Organic</th>\n",
       "      <td>2786</td>\n",
       "    </tr>\n",
       "    <tr>\n",
       "      <th>Paid</th>\n",
       "      <td>7871</td>\n",
       "    </tr>\n",
       "    <tr>\n",
       "      <th>Referral</th>\n",
       "      <td>4287</td>\n",
       "    </tr>\n",
       "    <tr>\n",
       "      <th rowspan=\"3\" valign=\"top\">ios web</th>\n",
       "      <th>Organic</th>\n",
       "      <td>3527</td>\n",
       "    </tr>\n",
       "    <tr>\n",
       "      <th>Paid</th>\n",
       "      <td>7723</td>\n",
       "    </tr>\n",
       "    <tr>\n",
       "      <th>Referral</th>\n",
       "      <td>5382</td>\n",
       "    </tr>\n",
       "    <tr>\n",
       "      <th rowspan=\"3\" valign=\"top\">mac</th>\n",
       "      <th>Organic</th>\n",
       "      <td>1796</td>\n",
       "    </tr>\n",
       "    <tr>\n",
       "      <th>Paid</th>\n",
       "      <td>2615</td>\n",
       "    </tr>\n",
       "    <tr>\n",
       "      <th>Referral</th>\n",
       "      <td>1413</td>\n",
       "    </tr>\n",
       "    <tr>\n",
       "      <th rowspan=\"3\" valign=\"top\">other</th>\n",
       "      <th>Organic</th>\n",
       "      <td>925</td>\n",
       "    </tr>\n",
       "    <tr>\n",
       "      <th>Paid</th>\n",
       "      <td>2017</td>\n",
       "    </tr>\n",
       "    <tr>\n",
       "      <th>Referral</th>\n",
       "      <td>706</td>\n",
       "    </tr>\n",
       "    <tr>\n",
       "      <th rowspan=\"3\" valign=\"top\">windows</th>\n",
       "      <th>Organic</th>\n",
       "      <td>1861</td>\n",
       "    </tr>\n",
       "    <tr>\n",
       "      <th>Paid</th>\n",
       "      <td>3609</td>\n",
       "    </tr>\n",
       "    <tr>\n",
       "      <th>Referral</th>\n",
       "      <td>1306</td>\n",
       "    </tr>\n",
       "  </tbody>\n",
       "</table>\n",
       "</div>"
      ],
      "text/plain": [
       "                            number_drivers\n",
       "signup_os   signup_channel                \n",
       "android web Organic                   2786\n",
       "            Paid                      7871\n",
       "            Referral                  4287\n",
       "ios web     Organic                   3527\n",
       "            Paid                      7723\n",
       "            Referral                  5382\n",
       "mac         Organic                   1796\n",
       "            Paid                      2615\n",
       "            Referral                  1413\n",
       "other       Organic                    925\n",
       "            Paid                      2017\n",
       "            Referral                   706\n",
       "windows     Organic                   1861\n",
       "            Paid                      3609\n",
       "            Referral                  1306"
      ]
     },
     "execution_count": 15,
     "metadata": {},
     "output_type": "execute_result"
    }
   ],
   "source": [
    "# groupby each signup device and channel to compute the total number of new drivers within the timeframe\n",
    "data[data['signup_os']!=0].groupby(['signup_os','signup_channel']).size().to_frame('number_drivers')"
   ]
  },
  {
   "cell_type": "code",
   "execution_count": null,
   "metadata": {},
   "outputs": [],
   "source": []
  }
 ],
 "metadata": {
  "kernelspec": {
   "display_name": "Python 3",
   "language": "python",
   "name": "python3"
  },
  "language_info": {
   "codemirror_mode": {
    "name": "ipython",
    "version": 3
   },
   "file_extension": ".py",
   "mimetype": "text/x-python",
   "name": "python",
   "nbconvert_exporter": "python",
   "pygments_lexer": "ipython3",
   "version": "3.9.6"
  }
 },
 "nbformat": 4,
 "nbformat_minor": 2
}
